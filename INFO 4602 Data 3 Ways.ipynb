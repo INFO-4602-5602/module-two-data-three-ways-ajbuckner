{
 "cells": [
  {
   "cell_type": "markdown",
   "metadata": {},
   "source": [
    "## Assignment 2 - Visualization Platforms\n",
    "Central Question: Can we use standard atmospheric data to estimate approximate atmospheric altitude?"
   ]
  },
  {
   "cell_type": "markdown",
   "metadata": {},
   "source": [
    "1. Creating Static Pressure line graph vs. altitude"
   ]
  },
  {
   "cell_type": "code",
   "execution_count": 1,
   "metadata": {},
   "outputs": [],
   "source": [
    "import numpy as np\n",
    "import pandas as pd\n",
    "import seaborn as sb\n",
    "import matplotlib.pyplot as plt\n",
    "import altair as alt"
   ]
  },
  {
   "cell_type": "code",
   "execution_count": 6,
   "metadata": {},
   "outputs": [
    {
     "name": "stderr",
     "output_type": "stream",
     "text": [
      "C:\\Users\\AJBuc\\Anaconda3\\lib\\site-packages\\ipykernel_launcher.py:6: SettingWithCopyWarning: \n",
      "A value is trying to be set on a copy of a slice from a DataFrame.\n",
      "Try using .loc[row_indexer,col_indexer] = value instead\n",
      "\n",
      "See the caveats in the documentation: http://pandas.pydata.org/pandas-docs/stable/user_guide/indexing.html#returning-a-view-versus-a-copy\n",
      "  \n"
     ]
    },
    {
     "data": {
      "text/html": [
       "\n",
       "<div id=\"altair-viz-b1c07e7a3c074c189e2799ebafa1422d\"></div>\n",
       "<script type=\"text/javascript\">\n",
       "  (function(spec, embedOpt){\n",
       "    let outputDiv = document.currentScript.previousElementSibling;\n",
       "    if (outputDiv.id !== \"altair-viz-b1c07e7a3c074c189e2799ebafa1422d\") {\n",
       "      outputDiv = document.getElementById(\"altair-viz-b1c07e7a3c074c189e2799ebafa1422d\");\n",
       "    }\n",
       "    const paths = {\n",
       "      \"vega\": \"https://cdn.jsdelivr.net/npm//vega@5?noext\",\n",
       "      \"vega-lib\": \"https://cdn.jsdelivr.net/npm//vega-lib?noext\",\n",
       "      \"vega-lite\": \"https://cdn.jsdelivr.net/npm//vega-lite@4.8.1?noext\",\n",
       "      \"vega-embed\": \"https://cdn.jsdelivr.net/npm//vega-embed@6?noext\",\n",
       "    };\n",
       "\n",
       "    function loadScript(lib) {\n",
       "      return new Promise(function(resolve, reject) {\n",
       "        var s = document.createElement('script');\n",
       "        s.src = paths[lib];\n",
       "        s.async = true;\n",
       "        s.onload = () => resolve(paths[lib]);\n",
       "        s.onerror = () => reject(`Error loading script: ${paths[lib]}`);\n",
       "        document.getElementsByTagName(\"head\")[0].appendChild(s);\n",
       "      });\n",
       "    }\n",
       "\n",
       "    function showError(err) {\n",
       "      outputDiv.innerHTML = `<div class=\"error\" style=\"color:red;\">${err}</div>`;\n",
       "      throw err;\n",
       "    }\n",
       "\n",
       "    function displayChart(vegaEmbed) {\n",
       "      vegaEmbed(outputDiv, spec, embedOpt)\n",
       "        .catch(err => showError(`Javascript Error: ${err.message}<br>This usually means there's a typo in your chart specification. See the javascript console for the full traceback.`));\n",
       "    }\n",
       "\n",
       "    if(typeof define === \"function\" && define.amd) {\n",
       "      requirejs.config({paths});\n",
       "      require([\"vega-embed\"], displayChart, err => showError(`Error loading script: ${err.message}`));\n",
       "    } else if (typeof vegaEmbed === \"function\") {\n",
       "      displayChart(vegaEmbed);\n",
       "    } else {\n",
       "      loadScript(\"vega\")\n",
       "        .then(() => loadScript(\"vega-lite\"))\n",
       "        .then(() => loadScript(\"vega-embed\"))\n",
       "        .catch(showError)\n",
       "        .then(() => displayChart(vegaEmbed));\n",
       "    }\n",
       "  })({\"config\": {\"view\": {\"continuousWidth\": 400, \"continuousHeight\": 300}}, \"data\": {\"name\": \"data-b9452a39d54ec03be9308b761cb309a8\"}, \"mark\": \"line\", \"encoding\": {\"x\": {\"type\": \"quantitative\", \"field\": \"Altitude (m)\"}, \"y\": {\"type\": \"quantitative\", \"field\": \"(inHg)\"}}, \"$schema\": \"https://vega.github.io/schema/vega-lite/v4.8.1.json\", \"datasets\": {\"data-b9452a39d54ec03be9308b761cb309a8\": [{\"(pascals)\": 101325.0, \"(inHg)\": 29.921259999999997, \"Altitude (m)\": 0}, {\"(pascals)\": 22632.1, \"(inHg)\": 6.683244999999999, \"Altitude (m)\": 11000}, {\"(pascals)\": 5474.89, \"(inHg)\": 1.6167340000000001, \"Altitude (m)\": 20000}, {\"(pascals)\": 868.0189999999999, \"(inHg)\": 0.2563258, \"Altitude (m)\": 32000}, {\"(pascals)\": 110.906, \"(inHg)\": 0.0327506, \"Altitude (m)\": 47000}, {\"(pascals)\": 66.9389, \"(inHg)\": 0.01976704, \"Altitude (m)\": 51000}, {\"(pascals)\": 3.9564199999999996, \"(inHg)\": 0.00116833, \"Altitude (m)\": 71000}]}}, {\"mode\": \"vega-lite\"});\n",
       "</script>"
      ],
      "text/plain": [
       "alt.Chart(...)"
      ]
     },
     "execution_count": 6,
     "metadata": {},
     "output_type": "execute_result"
    }
   ],
   "source": [
    "height = [0, 11000, 20000, 32000, 47000, 51000, 71000]\n",
    "atmosData = pd.read_html(\"https://en.wikipedia.org/wiki/U.S._Standard_Atmosphere\")\n",
    "atmosDF = atmosData[0]\n",
    "del atmosDF[\"Subscript b\"]\n",
    "finalDF = atmosDF[\"Static pressure\"]\n",
    "finalDF['Altitude (m)'] = height\n",
    "\n",
    "\n",
    "\n",
    "\n",
    "alt.Chart(finalDF).mark_line().encode(x=\"Altitude (m)\", y=\"(inHg)\")"
   ]
  },
  {
   "cell_type": "markdown",
   "metadata": {},
   "source": [
    "Here is our line graph of the Static Pressure vs altitude as we ascend into the atmosphere. This graph seems to be continually down trending, which should make calculating our altitude easier with this data. Now we need to compare it to the temperature data at points of altitude as well."
   ]
  },
  {
   "cell_type": "code",
   "execution_count": 7,
   "metadata": {},
   "outputs": [
    {
     "name": "stderr",
     "output_type": "stream",
     "text": [
      "C:\\Users\\AJBuc\\Anaconda3\\lib\\site-packages\\ipykernel_launcher.py:2: SettingWithCopyWarning: \n",
      "A value is trying to be set on a copy of a slice from a DataFrame.\n",
      "Try using .loc[row_indexer,col_indexer] = value instead\n",
      "\n",
      "See the caveats in the documentation: http://pandas.pydata.org/pandas-docs/stable/user_guide/indexing.html#returning-a-view-versus-a-copy\n",
      "  \n"
     ]
    },
    {
     "data": {
      "text/html": [
       "\n",
       "<div id=\"altair-viz-335b3db486da4638bdcde28be2c31ee5\"></div>\n",
       "<script type=\"text/javascript\">\n",
       "  (function(spec, embedOpt){\n",
       "    let outputDiv = document.currentScript.previousElementSibling;\n",
       "    if (outputDiv.id !== \"altair-viz-335b3db486da4638bdcde28be2c31ee5\") {\n",
       "      outputDiv = document.getElementById(\"altair-viz-335b3db486da4638bdcde28be2c31ee5\");\n",
       "    }\n",
       "    const paths = {\n",
       "      \"vega\": \"https://cdn.jsdelivr.net/npm//vega@5?noext\",\n",
       "      \"vega-lib\": \"https://cdn.jsdelivr.net/npm//vega-lib?noext\",\n",
       "      \"vega-lite\": \"https://cdn.jsdelivr.net/npm//vega-lite@4.8.1?noext\",\n",
       "      \"vega-embed\": \"https://cdn.jsdelivr.net/npm//vega-embed@6?noext\",\n",
       "    };\n",
       "\n",
       "    function loadScript(lib) {\n",
       "      return new Promise(function(resolve, reject) {\n",
       "        var s = document.createElement('script');\n",
       "        s.src = paths[lib];\n",
       "        s.async = true;\n",
       "        s.onload = () => resolve(paths[lib]);\n",
       "        s.onerror = () => reject(`Error loading script: ${paths[lib]}`);\n",
       "        document.getElementsByTagName(\"head\")[0].appendChild(s);\n",
       "      });\n",
       "    }\n",
       "\n",
       "    function showError(err) {\n",
       "      outputDiv.innerHTML = `<div class=\"error\" style=\"color:red;\">${err}</div>`;\n",
       "      throw err;\n",
       "    }\n",
       "\n",
       "    function displayChart(vegaEmbed) {\n",
       "      vegaEmbed(outputDiv, spec, embedOpt)\n",
       "        .catch(err => showError(`Javascript Error: ${err.message}<br>This usually means there's a typo in your chart specification. See the javascript console for the full traceback.`));\n",
       "    }\n",
       "\n",
       "    if(typeof define === \"function\" && define.amd) {\n",
       "      requirejs.config({paths});\n",
       "      require([\"vega-embed\"], displayChart, err => showError(`Error loading script: ${err.message}`));\n",
       "    } else if (typeof vegaEmbed === \"function\") {\n",
       "      displayChart(vegaEmbed);\n",
       "    } else {\n",
       "      loadScript(\"vega\")\n",
       "        .then(() => loadScript(\"vega-lite\"))\n",
       "        .then(() => loadScript(\"vega-embed\"))\n",
       "        .catch(showError)\n",
       "        .then(() => displayChart(vegaEmbed));\n",
       "    }\n",
       "  })({\"config\": {\"view\": {\"continuousWidth\": 400, \"continuousHeight\": 300}}, \"data\": {\"name\": \"data-784ecc7d02f5dc4634cbfbd94d59788a\"}, \"mark\": {\"type\": \"circle\", \"size\": 60}, \"encoding\": {\"x\": {\"type\": \"quantitative\", \"field\": \"Altitude (m)\"}, \"y\": {\"type\": \"quantitative\", \"field\": \"Standard temperature (K)\", \"scale\": {\"zero\": false}}}, \"$schema\": \"https://vega.github.io/schema/vega-lite/v4.8.1.json\", \"datasets\": {\"data-784ecc7d02f5dc4634cbfbd94d59788a\": [{\"Standard temperature (K)\": 288.15, \"Altitude (m)\": 0}, {\"Standard temperature (K)\": 216.65, \"Altitude (m)\": 11000}, {\"Standard temperature (K)\": 216.65, \"Altitude (m)\": 20000}, {\"Standard temperature (K)\": 228.65, \"Altitude (m)\": 32000}, {\"Standard temperature (K)\": 270.65, \"Altitude (m)\": 47000}, {\"Standard temperature (K)\": 270.65, \"Altitude (m)\": 51000}, {\"Standard temperature (K)\": 214.65, \"Altitude (m)\": 71000}]}}, {\"mode\": \"vega-lite\"});\n",
       "</script>"
      ],
      "text/plain": [
       "alt.Chart(...)"
      ]
     },
     "execution_count": 7,
     "metadata": {},
     "output_type": "execute_result"
    }
   ],
   "source": [
    "tempDF = atmosDF['Standard temperature (K)']\n",
    "tempDF['Altitude (m)'] = height\n",
    "\n",
    "alt.Chart(tempDF).mark_circle(size=60).encode(x=\"Altitude (m)\", y = alt.Y('Standard temperature (K)', scale=alt.Scale(zero=False)))"
   ]
  },
  {
   "cell_type": "markdown",
   "metadata": {},
   "source": [
    "Here is the atmospheric temperature vs altitude graph. I had to adjust the altair scale as it wanted to revert the Y axis to start at 0, but besides that things went smoothly. This graph shows us the temperature at different altitudes. My goal is to combine these datasets together and create a bar chart with the result. By \"combine\", i mean i would like to find the average of both the temperature and pressure values at each given altitude, and plot that average on a bar chart. This will help me when calculating the final height of my balloon payload."
   ]
  },
  {
   "cell_type": "code",
   "execution_count": 10,
   "metadata": {},
   "outputs": [
    {
     "data": {
      "text/html": [
       "\n",
       "<div id=\"altair-viz-bf473e0d18a54455867cc67bc8bfae0f\"></div>\n",
       "<script type=\"text/javascript\">\n",
       "  (function(spec, embedOpt){\n",
       "    let outputDiv = document.currentScript.previousElementSibling;\n",
       "    if (outputDiv.id !== \"altair-viz-bf473e0d18a54455867cc67bc8bfae0f\") {\n",
       "      outputDiv = document.getElementById(\"altair-viz-bf473e0d18a54455867cc67bc8bfae0f\");\n",
       "    }\n",
       "    const paths = {\n",
       "      \"vega\": \"https://cdn.jsdelivr.net/npm//vega@5?noext\",\n",
       "      \"vega-lib\": \"https://cdn.jsdelivr.net/npm//vega-lib?noext\",\n",
       "      \"vega-lite\": \"https://cdn.jsdelivr.net/npm//vega-lite@4.8.1?noext\",\n",
       "      \"vega-embed\": \"https://cdn.jsdelivr.net/npm//vega-embed@6?noext\",\n",
       "    };\n",
       "\n",
       "    function loadScript(lib) {\n",
       "      return new Promise(function(resolve, reject) {\n",
       "        var s = document.createElement('script');\n",
       "        s.src = paths[lib];\n",
       "        s.async = true;\n",
       "        s.onload = () => resolve(paths[lib]);\n",
       "        s.onerror = () => reject(`Error loading script: ${paths[lib]}`);\n",
       "        document.getElementsByTagName(\"head\")[0].appendChild(s);\n",
       "      });\n",
       "    }\n",
       "\n",
       "    function showError(err) {\n",
       "      outputDiv.innerHTML = `<div class=\"error\" style=\"color:red;\">${err}</div>`;\n",
       "      throw err;\n",
       "    }\n",
       "\n",
       "    function displayChart(vegaEmbed) {\n",
       "      vegaEmbed(outputDiv, spec, embedOpt)\n",
       "        .catch(err => showError(`Javascript Error: ${err.message}<br>This usually means there's a typo in your chart specification. See the javascript console for the full traceback.`));\n",
       "    }\n",
       "\n",
       "    if(typeof define === \"function\" && define.amd) {\n",
       "      requirejs.config({paths});\n",
       "      require([\"vega-embed\"], displayChart, err => showError(`Error loading script: ${err.message}`));\n",
       "    } else if (typeof vegaEmbed === \"function\") {\n",
       "      displayChart(vegaEmbed);\n",
       "    } else {\n",
       "      loadScript(\"vega\")\n",
       "        .then(() => loadScript(\"vega-lite\"))\n",
       "        .then(() => loadScript(\"vega-embed\"))\n",
       "        .catch(showError)\n",
       "        .then(() => displayChart(vegaEmbed));\n",
       "    }\n",
       "  })({\"config\": {\"view\": {\"continuousWidth\": 400, \"continuousHeight\": 300}}, \"data\": {\"name\": \"data-b47a82d9a33fd6b23f93f49e0c0f2f3e\"}, \"mark\": \"bar\", \"encoding\": {\"x\": {\"type\": \"quantitative\", \"field\": \"Altitude (m)\"}, \"y\": {\"type\": \"quantitative\", \"field\": \"Pressure & Temp avg\"}}, \"selection\": {\"selector001\": {\"type\": \"interval\", \"bind\": \"scales\", \"encodings\": [\"x\", \"y\"]}}, \"$schema\": \"https://vega.github.io/schema/vega-lite/v4.8.1.json\", \"datasets\": {\"data-b47a82d9a33fd6b23f93f49e0c0f2f3e\": [{\"Pressure & Temp avg\": 4310.905534499999, \"Altitude (m)\": 0}, {\"Pressure & Temp avg\": 723.9625146249999, \"Altitude (m)\": 11000}, {\"Pressure & Temp avg\": 175.13271055, \"Altitude (m)\": 20000}, {\"Pressure & Temp avg\": 29.304447085, \"Altitude (m)\": 32000}, {\"Pressure & Temp avg\": 4.431974944999999, \"Altitude (m)\": 47000}, {\"Pressure & Temp avg\": 2.674974688, \"Altitude (m)\": 51000}, {\"Pressure & Temp avg\": 0.12539101725000001, \"Altitude (m)\": 71000}]}}, {\"mode\": \"vega-lite\"});\n",
       "</script>"
      ],
      "text/plain": [
       "alt.Chart(...)"
      ]
     },
     "execution_count": 10,
     "metadata": {},
     "output_type": "execute_result"
    }
   ],
   "source": [
    "combinedDF = pd.DataFrame()\n",
    "combinedDF['Pressure & Temp avg'] = (finalDF[\"(inHg)\"] * tempDF[\"Standard temperature (K)\"])/2\n",
    "combinedDF['Altitude (m)'] = height\n",
    "alt.Chart(combinedDF).mark_bar().encode(x=\"Altitude (m)\", y=\"Pressure & Temp avg\").interactive()"
   ]
  },
  {
   "cell_type": "markdown",
   "metadata": {},
   "source": [
    "With this graph complete, it was slightly hard to read. So, using altair's .interactive() method, you are now able to zoom in and out, as well as move around the graph. Because the initial average is so high, our graph towards the 71,000 meter marker is unreadable. The zoom allows us to see this part of the graph, and the data gathered should be really interesting when comparing to my payload data. All i will need to do is convert my units, calculate this average, and i should be able to compare it with this graph and determine a relatively accurate altitude calculation."
   ]
  },
  {
   "cell_type": "code",
   "execution_count": null,
   "metadata": {},
   "outputs": [],
   "source": []
  }
 ],
 "metadata": {
  "kernelspec": {
   "display_name": "Python 3",
   "language": "python",
   "name": "python3"
  },
  "language_info": {
   "codemirror_mode": {
    "name": "ipython",
    "version": 3
   },
   "file_extension": ".py",
   "mimetype": "text/x-python",
   "name": "python",
   "nbconvert_exporter": "python",
   "pygments_lexer": "ipython3",
   "version": "3.7.4"
  }
 },
 "nbformat": 4,
 "nbformat_minor": 2
}
